{
  "nbformat": 4,
  "nbformat_minor": 0,
  "metadata": {
    "colab": {
      "provenance": [],
      "authorship_tag": "ABX9TyPXnj0Onq0IiB2mZq2wgVhQ",
      "include_colab_link": true
    },
    "kernelspec": {
      "name": "python3",
      "display_name": "Python 3"
    },
    "language_info": {
      "name": "python"
    }
  },
  "cells": [
    {
      "cell_type": "markdown",
      "metadata": {
        "id": "view-in-github",
        "colab_type": "text"
      },
      "source": [
        "<a href=\"https://colab.research.google.com/github/mittushaji25/crypto-xrp-analysis/blob/main/notebooks/04_forecasting_and_prediction_models.ipynb\" target=\"_parent\"><img src=\"https://colab.research.google.com/assets/colab-badge.svg\" alt=\"Open In Colab\"/></a>"
      ]
    },
    {
      "cell_type": "markdown",
      "source": [
        "# 🔮 **XRPUSDT Crypto Market Analysis - Forecasting & Prediction Models**"
      ],
      "metadata": {
        "id": "ZnuH31qbUG2K"
      }
    },
    {
      "cell_type": "code",
      "source": [
        "import pandas as pd\n",
        "xrp_data = pd.read_csv('/content/crypto-xrp-analysis/data/cleaned/xrpusdt_features.csv')"
      ],
      "metadata": {
        "id": "NmbloB3fVCQI"
      },
      "execution_count": null,
      "outputs": []
    },
    {
      "cell_type": "markdown",
      "source": [
        "## 🔁 Create New 3-Day Forecast Target"
      ],
      "metadata": {
        "id": "-5MMJ-ylZePs"
      }
    },
    {
      "cell_type": "code",
      "source": [
        "xrp_data['future_return_3d'] = xrp_data['close'].shift(-3) / xrp_data['close'] - 1\n",
        "xrp_data['price_direction_3d'] = (xrp_data['future_return_3d'] > 0).astype(int)\n",
        "xrp_data.dropna(inplace=True)  # Clean rows with missing future data\n"
      ],
      "metadata": {
        "id": "Pa3OiBBhXz8v"
      },
      "execution_count": null,
      "outputs": []
    },
    {
      "cell_type": "markdown",
      "source": [
        "## ✂️ Use Top Features from Feature Importance"
      ],
      "metadata": {
        "id": "spbDKRKSZtj_"
      }
    },
    {
      "cell_type": "code",
      "source": [
        "selected_features = [\n",
        "    'rsi', 'std_14', 'log_return', 'momentum_3',\n",
        "    'buy_volume_ratio', 'avg_trade_size', 'macd', 'volume_spike'\n",
        "]\n",
        "\n",
        "X = xrp_data[selected_features]\n",
        "y = xrp_data['price_direction_3d']\n",
        "\n",
        "# Time-based split\n",
        "split_idx = int(len(xrp_data) * 0.8)\n",
        "X_train, X_test = X.iloc[:split_idx], X.iloc[split_idx:]\n",
        "y_train, y_test = y.iloc[:split_idx], y.iloc[split_idx:]"
      ],
      "metadata": {
        "id": "RD6kMP_NZrQh"
      },
      "execution_count": null,
      "outputs": []
    },
    {
      "cell_type": "markdown",
      "source": [
        "## 🧠 Train Classification Model"
      ],
      "metadata": {
        "id": "Jb2-JT86Z2cJ"
      }
    },
    {
      "cell_type": "code",
      "source": [
        "from xgboost import XGBClassifier\n",
        "\n",
        "clf = XGBClassifier(\n",
        "    n_estimators=150,\n",
        "    max_depth=5,\n",
        "    learning_rate=0.05,\n",
        "    use_label_encoder=False,\n",
        "    eval_metric='logloss'\n",
        ")\n",
        "\n",
        "clf.fit(X_train, y_train)\n",
        "y_pred = clf.predict(X_test)\n",
        "y_proba = clf.predict_proba(X_test)[:, 1]"
      ],
      "metadata": {
        "colab": {
          "base_uri": "https://localhost:8080/"
        },
        "id": "0vMTgxK0Z0la",
        "outputId": "beea8899-7642-4ed5-e55a-e728599d6d78"
      },
      "execution_count": null,
      "outputs": [
        {
          "output_type": "stream",
          "name": "stderr",
          "text": [
            "/usr/local/lib/python3.11/dist-packages/xgboost/core.py:158: UserWarning: [21:19:06] WARNING: /workspace/src/learner.cc:740: \n",
            "Parameters: { \"use_label_encoder\" } are not used.\n",
            "\n",
            "  warnings.warn(smsg, UserWarning)\n"
          ]
        },
        {
          "output_type": "stream",
          "name": "stdout",
          "text": [
            "✅ Accuracy: 0.478\n",
            "🎯 ROC AUC: 0.594\n"
          ]
        }
      ]
    },
    {
      "cell_type": "markdown",
      "source": [
        "## 📊 Evaluate Model Performance"
      ],
      "metadata": {
        "id": "13PYt7_PZ9z1"
      }
    },
    {
      "cell_type": "code",
      "source": [
        "from sklearn.metrics import accuracy_score, roc_auc_score\n",
        "\n",
        "print(\"✅ Accuracy:\", round(accuracy_score(y_test, y_pred), 3))\n",
        "print(\"🎯 ROC AUC:\", round(roc_auc_score(y_test, y_proba), 3))"
      ],
      "metadata": {
        "id": "3O3FFTzlezDx"
      },
      "execution_count": null,
      "outputs": []
    },
    {
      "cell_type": "markdown",
      "source": [
        "## 🎯 Quantify Returns from Prediction Hits"
      ],
      "metadata": {
        "id": "ap5ZN8P5e6g6"
      }
    },
    {
      "cell_type": "code",
      "source": [
        "xrp_data.loc[X_test.index, 'model_prediction_3d'] = y_pred\n",
        "xrp_data['prediction_hit'] = (xrp_data['model_prediction_3d'] == xrp_data['price_direction_3d'])\n",
        "\n",
        "# Mean returns grouped by prediction success\n",
        "print(xrp_data.groupby('prediction_hit')['future_return_3d'].mean())\n"
      ],
      "metadata": {
        "colab": {
          "base_uri": "https://localhost:8080/"
        },
        "id": "hbEtdSSiZ6ql",
        "outputId": "20ef853a-ce2d-46a8-b866-e0a0eea0d209"
      },
      "execution_count": null,
      "outputs": [
        {
          "output_type": "stream",
          "name": "stdout",
          "text": [
            "prediction_hit\n",
            "False    0.005762\n",
            "True     0.035199\n",
            "Name: future_return_3d, dtype: float64\n"
          ]
        }
      ]
    },
    {
      "cell_type": "markdown",
      "source": [
        "## 🔍 Analyze Forecast by Confidence Levels"
      ],
      "metadata": {
        "id": "-3vnWI-ybrVM"
      }
    },
    {
      "cell_type": "code",
      "source": [
        "xrp_data.loc[X_test.index, 'prediction_prob'] = y_proba\n",
        "xrp_data.loc[X_test.index, 'high_confidence'] = (y_proba > 0.7).astype(int)\n",
        "\n",
        "xrp_data.loc[X_test.index, 'confidence_bin'] = pd.cut(y_proba, bins=[0, 0.5, 0.7, 0.9, 1.0])\n",
        "print(xrp_data.groupby('confidence_bin')['future_return_3d'].mean())"
      ],
      "metadata": {
        "id": "qj8qVQ6ZaHpK",
        "colab": {
          "base_uri": "https://localhost:8080/"
        },
        "outputId": "35a85fc1-3744-4fa6-8c03-e115ed2fc5f7"
      },
      "execution_count": 14,
      "outputs": [
        {
          "output_type": "stream",
          "name": "stdout",
          "text": [
            "confidence_bin\n",
            "(0.0, 0.5]    0.003516\n",
            "(0.5, 0.7]    0.000951\n",
            "(0.7, 0.9]   -0.007450\n",
            "(0.9, 1.0]    0.009243\n",
            "Name: future_return_3d, dtype: float64\n"
          ]
        },
        {
          "output_type": "stream",
          "name": "stderr",
          "text": [
            "/tmp/ipython-input-14-4280339780.py:5: FutureWarning: The default of observed=False is deprecated and will be changed to True in a future version of pandas. Pass observed=False to retain current behavior or observed=True to adopt the future default and silence this warning.\n",
            "  print(xrp_data.groupby('confidence_bin')['future_return_3d'].mean())\n"
          ]
        }
      ]
    },
    {
      "cell_type": "markdown",
      "source": [
        "Insight from Confidence Bins\n",
        "\n",
        "    Confidence Range | AvgFutureReturn(3d) | Implication\n",
        "\n",
        "    (0.0 – 0.5] | +0.35% | Low-certainty, low-but-positive gain\n",
        "\n",
        "    (0.5 – 0.7] | +0.09% | Neutral behavior—uncertain signal\n",
        "\n",
        "    (0.7 – 0.9] |-0.75%  | Overconfident but wrong—model risk\n",
        "\n",
        "    (0.9 – 1.0] | +0.92% | High certainty, highest reward zone\n",
        "\n"
      ],
      "metadata": {
        "id": "JMntLYuYcaK1"
      }
    },
    {
      "cell_type": "code",
      "source": [
        "xrp_data.columns"
      ],
      "metadata": {
        "colab": {
          "base_uri": "https://localhost:8080/"
        },
        "id": "P-Y4N_9yb4DA",
        "outputId": "06e36e4a-2a16-4363-ca10-7a4a70062187"
      },
      "execution_count": 16,
      "outputs": [
        {
          "output_type": "execute_result",
          "data": {
            "text/plain": [
              "Index(['open_time', 'open', 'high', 'low', 'close', 'volume', 'close_time',\n",
              "       'quote_asset_volume', 'number_of_trades', 'taker_buy_base_volume',\n",
              "       'taker_buy_quote_volume', 'source_filename', 'open_lag_1',\n",
              "       'close_lag_1', 'high_lag_1', 'low_lag_1', 'volumne_lag_1',\n",
              "       'volumne_lag_3', 'candle_size', 'body_size', 'upper_shadow',\n",
              "       'lower_shadow', 'buy_volume_ratio', 'avg_trade_size', 'ma_7', 'ma_21',\n",
              "       'std_14', 'hl_spread', 'hl_spread_change', 'pct_change', 'log_return',\n",
              "       'momentum_3', 'momentum_7', 'day_of_week', 'is_weekend', 'month', 'rsi',\n",
              "       'macd', 'signal_line', 'volume_zscore', 'volume_spike', 'rsi_buy',\n",
              "       'rsi_sell', 'macd_bullish', 'macd_bearish', 'future_return_1d',\n",
              "       'price_direction', 'future_return_3d', 'price_direction_3d',\n",
              "       'model_prediction_3d', 'prediction_hit', 'prediction_prob',\n",
              "       'high_confidence', 'confidence_bin'],\n",
              "      dtype='object')"
            ]
          },
          "metadata": {},
          "execution_count": 16
        }
      ]
    },
    {
      "cell_type": "code",
      "source": [
        "xrp_data.to_csv('/content/crypto-xrp-analysis/data/featured/xrpusdt_master_data.csv', index=False)"
      ],
      "metadata": {
        "id": "p4BBgM1efVqD"
      },
      "execution_count": 17,
      "outputs": []
    },
    {
      "cell_type": "markdown",
      "source": [
        "# 🔁 Split into Thematic Tables for Tableau Dashbaord\n"
      ],
      "metadata": {
        "id": "QMzZ9pf6kNqZ"
      }
    },
    {
      "cell_type": "markdown",
      "source": [
        "### 📊 1. Price Signals Table"
      ],
      "metadata": {
        "id": "Hh19TKvykgjr"
      }
    },
    {
      "cell_type": "code",
      "source": [
        "price_signals_cols = [\n",
        "    'close_time', 'open', 'high', 'low', 'close', 'volume',\n",
        "    'rsi', 'macd', 'momentum_3', 'volume_spike', 'rsi_buy', 'macd_bullish'\n",
        "]\n",
        "\n",
        "xrp_data[price_signals_cols].to_csv(\n",
        "    'data/dashboard_split/price_signals.csv', index=False\n",
        ")\n"
      ],
      "metadata": {
        "id": "pEQ-Fu3jj5BV"
      },
      "execution_count": 21,
      "outputs": []
    },
    {
      "cell_type": "markdown",
      "source": [
        "### 🔮 2. Predictions Table"
      ],
      "metadata": {
        "id": "T7jcnxxAkoh1"
      }
    },
    {
      "cell_type": "code",
      "source": [
        "predictions_cols = [\n",
        "    'close_time', 'price_direction_3d', 'model_prediction_3d',\n",
        "    'future_return_3d', 'prediction_prob', 'confidence_bin', 'high_confidence'\n",
        "]\n",
        "\n",
        "xrp_data[predictions_cols].to_csv(\n",
        "    'data/dashboard_split/predictions.csv', index=False\n",
        ")\n"
      ],
      "metadata": {
        "id": "utRTh9FakmBe"
      },
      "execution_count": 23,
      "outputs": []
    },
    {
      "cell_type": "markdown",
      "source": [
        "### 🎯 3. Performance KPIs Table"
      ],
      "metadata": {
        "id": "2uXJChMVkwDu"
      }
    },
    {
      "cell_type": "code",
      "source": [
        "performance_cols = [\n",
        "    'close_time', 'prediction_hit', 'future_return_3d',\n",
        "    'price_direction_3d', 'model_prediction_3d'\n",
        "]\n",
        "\n",
        "xrp_data[performance_cols].to_csv(\n",
        "    'data/dashboard_split/performance_kpi.csv', index=False\n",
        ")\n"
      ],
      "metadata": {
        "id": "ytSD1LDIkqz6"
      },
      "execution_count": 25,
      "outputs": []
    },
    {
      "cell_type": "markdown",
      "source": [
        "### 📈 4. Confidence Analysis Table"
      ],
      "metadata": {
        "id": "U0Dj3E3zk3Ap"
      }
    },
    {
      "cell_type": "code",
      "source": [
        "confidence_cols = [\n",
        "    'close_time', 'prediction_prob', 'confidence_bin', 'future_return_3d'\n",
        "]\n",
        "\n",
        "xrp_data[confidence_cols].to_csv(\n",
        "    'data/dashboard_split/confidence_analysis.csv', index=False\n",
        ")"
      ],
      "metadata": {
        "id": "aNDUk77skyRE"
      },
      "execution_count": 26,
      "outputs": []
    },
    {
      "cell_type": "code",
      "source": [],
      "metadata": {
        "id": "kRKJT962mS0Y"
      },
      "execution_count": null,
      "outputs": []
    }
  ]
}