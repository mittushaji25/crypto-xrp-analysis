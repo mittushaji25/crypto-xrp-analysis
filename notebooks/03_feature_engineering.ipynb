{
  "nbformat": 4,
  "nbformat_minor": 0,
  "metadata": {
    "colab": {
      "provenance": [],
      "authorship_tag": "ABX9TyOploa9Zdub4DwoDAPIU4aA",
      "include_colab_link": true
    },
    "kernelspec": {
      "name": "python3",
      "display_name": "Python 3"
    },
    "language_info": {
      "name": "python"
    }
  },
  "cells": [
    {
      "cell_type": "markdown",
      "metadata": {
        "id": "view-in-github",
        "colab_type": "text"
      },
      "source": [
        "<a href=\"https://colab.research.google.com/github/mittushaji25/crypto-xrp-analysis/blob/main/notebooks/03_feature_engineering.ipynb\" target=\"_parent\"><img src=\"https://colab.research.google.com/assets/colab-badge.svg\" alt=\"Open In Colab\"/></a>"
      ]
    },
    {
      "cell_type": "markdown",
      "source": [
        "# **🚀 XRPUSDT Crypto Market Analysis - Feature Engineering**\n"
      ],
      "metadata": {
        "id": "Is1MptZvmkXL"
      }
    },
    {
      "cell_type": "code",
      "source": [
        "import pandas as pd\n",
        "import numpy as np\n",
        "xrp_data = pd.DataFrame\n",
        "xrp_data = pd.read_csv(\"/content/crypto-xrp-analysis/data/cleaned/xrpusdt_data_cleaned.csv\")"
      ],
      "metadata": {
        "id": "VJVXk8pDmDRC"
      },
      "execution_count": 2,
      "outputs": []
    },
    {
      "cell_type": "markdown",
      "source": [
        "## Step 1: Lag Features"
      ],
      "metadata": {
        "id": "Lo54g-WHmvLv"
      }
    },
    {
      "cell_type": "code",
      "source": [
        "xrp_data['open_lag_1'] = xrp_data['open'].shift(1)\n",
        "xrp_data['close_lag_1'] = xrp_data['close'].shift(1)\n",
        "xrp_data['high_lag_1'] = xrp_data['high'].shift(1)\n",
        "xrp_data['low_lag_1'] = xrp_data['low'].shift(1)\n",
        "xrp_data['volumne_lag_1'] = xrp_data['volume'].shift(1)\n",
        "xrp_data['volumne_lag_3'] = xrp_data['volume'].shift(3)"
      ],
      "metadata": {
        "id": "1TowG-jSmFhz"
      },
      "execution_count": 3,
      "outputs": []
    },
    {
      "cell_type": "markdown",
      "source": [
        "## Step 2: Candle Structure Features"
      ],
      "metadata": {
        "id": "pB6k7cbpq8in"
      }
    },
    {
      "cell_type": "code",
      "source": [
        "from re import A\n",
        "xrp_data['candle_size'] = xrp_data['high'] - xrp_data['low']\n",
        "xrp_data['body_size'] = abs(xrp_data['close'] - xrp_data['open'])"
      ],
      "metadata": {
        "id": "84VnjxiPq-yj"
      },
      "execution_count": 4,
      "outputs": []
    },
    {
      "cell_type": "code",
      "source": [
        "xrp_data['upper_shadow'] = xrp_data['high'] - xrp_data[['open', 'close']].max(axis=1)\n",
        "xrp_data['lower_shadow'] = xrp_data[['open', 'close']].min(axis=1) -xrp_data['low']"
      ],
      "metadata": {
        "id": "9q8uko7BxU9Y"
      },
      "execution_count": 5,
      "outputs": []
    },
    {
      "cell_type": "markdown",
      "source": [
        "## Step 3: Trade Metrics & Market Behavior"
      ],
      "metadata": {
        "id": "wY7HI3mZsOu2"
      }
    },
    {
      "cell_type": "code",
      "source": [
        "xrp_data['buy_volume_ratio'] = xrp_data['taker_buy_base_volume'] / xrp_data['volume']\n",
        "xrp_data['avg_trade_size'] = xrp_data['volume'] / xrp_data['number_of_trades']"
      ],
      "metadata": {
        "id": "HqSOaMVesTKw"
      },
      "execution_count": 6,
      "outputs": []
    },
    {
      "cell_type": "markdown",
      "source": [
        "## Step 4: Rolling Statistics"
      ],
      "metadata": {
        "id": "kTJRLXrknjb7"
      }
    },
    {
      "cell_type": "code",
      "source": [
        "xrp_data['ma_7'] = xrp_data['close'].rolling(window=7).mean()\n",
        "xrp_data['ma_21'] = xrp_data['close'].rolling(window=21).mean()\n",
        "xrp_data['std_14'] = xrp_data['close'].rolling(window=14).std()\n",
        "xrp_data['hl_spread'] = xrp_data['high'] - xrp_data['low']\n",
        "xrp_data['hl_spread_change'] = xrp_data['hl_spread'] / xrp_data['hl_spread'].shift(1)"
      ],
      "metadata": {
        "id": "IAqwk-2dngUh"
      },
      "execution_count": 7,
      "outputs": []
    },
    {
      "cell_type": "markdown",
      "source": [
        "## Step 5: Rate of Change & Momentum"
      ],
      "metadata": {
        "id": "02IWvIGCoA7j"
      }
    },
    {
      "cell_type": "code",
      "source": [
        "xrp_data['pct_change'] = xrp_data['close'].pct_change()\n",
        "xrp_data['log_return'] = np.log(xrp_data['close'] / xrp_data['close'].shift(1))\n",
        "xrp_data['momentum_3'] = xrp_data['close'] - xrp_data['close'].shift(3)\n",
        "xrp_data['momentum_7'] = xrp_data['close'] - xrp_data['close'].shift(7)"
      ],
      "metadata": {
        "id": "sCdWkj17n-_B"
      },
      "execution_count": 8,
      "outputs": []
    },
    {
      "cell_type": "markdown",
      "source": [
        "## Step 6: Time-Based Features from Close Time"
      ],
      "metadata": {
        "id": "87dLXw3aoVEC"
      }
    },
    {
      "cell_type": "code",
      "source": [
        "xrp_data['close_time'] = pd.to_datetime(xrp_data['close_time'])\n",
        "# xrp_data['hour'] = xrp_data['close_time'].dt.hour\n",
        "xrp_data['day_of_week'] = xrp_data['close_time'].dt.dayofweek\n",
        "xrp_data['is_weekend'] = xrp_data['day_of_week'].isin([5, 6]).astype(int)\n",
        "xrp_data['month'] = xrp_data['close_time'].dt.month"
      ],
      "metadata": {
        "id": "1XIdRaUzoTM1"
      },
      "execution_count": 9,
      "outputs": []
    },
    {
      "cell_type": "markdown",
      "source": [
        "## Step 7: Anomaly Detection & Signals"
      ],
      "metadata": {
        "id": "_NldmQ0CtRgQ"
      }
    },
    {
      "cell_type": "markdown",
      "source": [
        "### Calculate RSI"
      ],
      "metadata": {
        "id": "Ml5CIKbzuRzM"
      }
    },
    {
      "cell_type": "code",
      "source": [
        "# Compute RSI manually (14-period)\n",
        "delta = xrp_data['close'].diff()\n",
        "gain = delta.clip(lower=0)\n",
        "loss = -delta.clip(upper=0)\n",
        "\n",
        "avg_gain = gain.rolling(window=14).mean()\n",
        "avg_loss = loss.rolling(window=14).mean()\n",
        "\n",
        "rs = avg_gain / avg_loss\n",
        "xrp_data['rsi'] = 100 - (100 / (1 + rs))\n"
      ],
      "metadata": {
        "id": "VNSkjmKYt_vB"
      },
      "execution_count": 10,
      "outputs": []
    },
    {
      "cell_type": "markdown",
      "source": [
        "### Add MACD & Signal Line Manually"
      ],
      "metadata": {
        "id": "5DLPdvhNvMx7"
      }
    },
    {
      "cell_type": "code",
      "source": [
        "# MACD parameters\n",
        "short_ema = xrp_data['close'].ewm(span=12, adjust=False).mean()  # Fast EMA\n",
        "long_ema = xrp_data['close'].ewm(span=26, adjust=False).mean()   # Slow EMA\n",
        "\n",
        "# MACD and signal line\n",
        "xrp_data['macd'] = short_ema - long_ema\n",
        "xrp_data['signal_line'] = xrp_data['macd'].ewm(span=9, adjust=False).mean()"
      ],
      "metadata": {
        "id": "XaeDzU-Lu2Cf"
      },
      "execution_count": 11,
      "outputs": []
    },
    {
      "cell_type": "code",
      "source": [
        "xrp_data['volume_zscore'] = (xrp_data['volume'] - xrp_data['volume'].rolling(14).mean()) / xrp_data['volume'].rolling(14).std()\n",
        "xrp_data['volume_spike'] = (xrp_data['volume_zscore'] > 2).astype(int)\n",
        "\n",
        "# RSI/MACD binary signals (if those columns exist)\n",
        "xrp_data['rsi_buy'] = (xrp_data['rsi'] < 30).astype(int)\n",
        "xrp_data['rsi_sell'] = (xrp_data['rsi'] > 70).astype(int)\n",
        "xrp_data['macd_bullish'] = (xrp_data['macd'] > xrp_data['signal_line']).astype(int)\n",
        "xrp_data['macd_bearish'] = (xrp_data['macd'] < xrp_data['signal_line']).astype(int)"
      ],
      "metadata": {
        "id": "Jh7ZBFW1pJkT"
      },
      "execution_count": 12,
      "outputs": []
    },
    {
      "cell_type": "markdown",
      "source": [
        "## Step 8: Create Target Variable for Modeling"
      ],
      "metadata": {
        "id": "ktS5GRZmvSrV"
      }
    },
    {
      "cell_type": "code",
      "source": [
        "xrp_data['future_return_1d'] = xrp_data['close'].shift(-1) / xrp_data['close'] - 1\n",
        "xrp_data['price_direction'] = (xrp_data['future_return_1d'] > 0).astype(int)"
      ],
      "metadata": {
        "id": "3HRfcvoTvQ5t"
      },
      "execution_count": 13,
      "outputs": []
    },
    {
      "cell_type": "code",
      "source": [
        "xrp_data.dropna(inplace=True)\n",
        "xrp_data.to_csv('/content/crypto-xrp-analysis/data/cleaned/xrpusdt_features.csv', index=False)"
      ],
      "metadata": {
        "id": "nr2cmqAwvsxp"
      },
      "execution_count": 14,
      "outputs": []
    },
    {
      "cell_type": "code",
      "source": [],
      "metadata": {
        "id": "n4WOoV5bOJRb"
      },
      "execution_count": null,
      "outputs": []
    }
  ]
}