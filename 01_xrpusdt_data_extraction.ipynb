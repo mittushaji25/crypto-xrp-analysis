{
  "nbformat": 4,
  "nbformat_minor": 0,
  "metadata": {
    "colab": {
      "provenance": [],
      "authorship_tag": "ABX9TyOdzpGbugglZGVRt4sbUN6g",
      "include_colab_link": true
    },
    "kernelspec": {
      "name": "python3",
      "display_name": "Python 3"
    },
    "language_info": {
      "name": "python"
    }
  },
  "cells": [
    {
      "cell_type": "markdown",
      "metadata": {
        "id": "view-in-github",
        "colab_type": "text"
      },
      "source": [
        "<a href=\"https://colab.research.google.com/github/mittushaji25/crypto-xrp-analysis/blob/main/01_xrpusdt_data_extraction.ipynb\" target=\"_parent\"><img src=\"https://colab.research.google.com/assets/colab-badge.svg\" alt=\"Open In Colab\"/></a>"
      ]
    },
    {
      "cell_type": "code",
      "execution_count": 4,
      "metadata": {
        "id": "YEwCZV-j89L3"
      },
      "outputs": [],
      "source": [
        "import requests, zipfile, io\n",
        "import pandas as pd\n",
        "from datetime import datetime"
      ]
    },
    {
      "cell_type": "code",
      "source": [
        "years = [2023, 2024, 2025]\n",
        "months = [f\"{i:02d}\" for i in range(1, 13)]\n",
        "\n",
        "all_data = pd.DataFrame()\n",
        "\n",
        "for year in years:\n",
        "    for month in months:\n",
        "        # Skip future months in 2025\n",
        "        if year == 2025 and int(month) > datetime.now().month:\n",
        "            continue\n",
        "\n",
        "        url = f\"https://data.binance.vision/data/spot/monthly/klines/XRPUSDT/1d/XRPUSDT-1d-{year}-{month}.zip\"\n",
        "        try:\n",
        "            response = requests.get(url)\n",
        "            response.raise_for_status()\n",
        "\n",
        "            with zipfile.ZipFile(io.BytesIO(response.content)) as z:\n",
        "                z.extractall(\"xrpusdt_data\")\n",
        "                csv_name = z.namelist()[0]\n",
        "\n",
        "            df = pd.read_csv(f\"xrpusdt_data/{csv_name}\", header=None)\n",
        "            df.columns = [\n",
        "                \"Open Time\", \"Open\", \"High\", \"Low\", \"Close\", \"Volume\",\n",
        "                \"Close Time\", \"Quote Asset Volume\", \"Number of Trades\",\n",
        "                \"Taker Buy Base Volume\", \"Taker Buy Quote Volume\", \"Ignore\"\n",
        "            ]\n",
        "\n",
        "            all_data = pd.concat([all_data, df], ignore_index=True)\n",
        "        except Exception as e:\n",
        "            print(f\"❌ Failed for {year}-{month}: {e}\")\n"
      ],
      "metadata": {
        "colab": {
          "base_uri": "https://localhost:8080/"
        },
        "id": "AxGruF_EFTYn",
        "outputId": "edc8a4ea-f461-44b8-b9ff-cf9cbb266975"
      },
      "execution_count": 9,
      "outputs": [
        {
          "output_type": "stream",
          "name": "stdout",
          "text": [
            "❌ Failed for 2025-07: 404 Client Error: Not Found for url: https://data.binance.vision/data/spot/monthly/klines/XRPUSDT/1d/XRPUSDT-1d-2025-07.zip\n"
          ]
        }
      ]
    },
    {
      "cell_type": "code",
      "source": [
        "all_data.to_csv(\"xrpusdt_combined.csv\", index=False)"
      ],
      "metadata": {
        "id": "gkz8O2wAGTo8"
      },
      "execution_count": 10,
      "outputs": []
    }
  ]
}